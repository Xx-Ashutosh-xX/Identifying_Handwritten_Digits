{
 "cells": [
  {
   "cell_type": "markdown",
   "metadata": {},
   "source": [
    "# Importing Libraries"
   ]
  },
  {
   "cell_type": "code",
   "execution_count": 1,
   "metadata": {},
   "outputs": [
    {
     "name": "stderr",
     "output_type": "stream",
     "text": [
      "Using TensorFlow backend.\n"
     ]
    }
   ],
   "source": [
    "import keras\n",
    "import PIL\n",
    "\n",
    "from keras.models import Sequential\n",
    "from keras.layers import Conv2D\n",
    "from keras.layers import MaxPooling2D\n",
    "from keras.layers import Flatten\n",
    "from keras.layers import Dense, Dropout\n",
    "from keras.layers import Activation"
   ]
  },
  {
   "cell_type": "markdown",
   "metadata": {},
   "source": [
    "# Defining Model Initializer Fuction"
   ]
  },
  {
   "cell_type": "code",
   "execution_count": 2,
   "metadata": {},
   "outputs": [],
   "source": [
    "def model_builder():\n",
    "    model = Sequential()\n",
    "    \n",
    "    model.add(Conv2D(32, (3,3), input_shape=(28, 28, 1), padding='same', strides=1, activation='relu'))\n",
    "    model.add(MaxPooling2D(pool_size=(2,2), strides=2))\n",
    "    model.add(Dropout(0.3))\n",
    "    \n",
    "    model.add(Conv2D(64, (3,3), padding='same', strides=1, activation='relu'))\n",
    "    model.add(MaxPooling2D(pool_size=(2,2), strides=2))\n",
    "    model.add(Dropout(0.3))\n",
    "    \n",
    "    model.add(Flatten())\n",
    "    \n",
    "    model.add(Dense(units=128, activation='relu'))\n",
    "    model.add(Dropout(0.3))\n",
    "    model.add(Dense(units=10, activation='relu'))\n",
    "    model.add(Dense(units=10, activation='softmax'))\n",
    "    \n",
    "    model.summary()\n",
    "    \n",
    "    return model"
   ]
  },
  {
   "cell_type": "code",
   "execution_count": 3,
   "metadata": {},
   "outputs": [
    {
     "name": "stdout",
     "output_type": "stream",
     "text": [
      "Model: \"sequential_1\"\n",
      "_________________________________________________________________\n",
      "Layer (type)                 Output Shape              Param #   \n",
      "=================================================================\n",
      "conv2d_1 (Conv2D)            (None, 28, 28, 32)        320       \n",
      "_________________________________________________________________\n",
      "max_pooling2d_1 (MaxPooling2 (None, 14, 14, 32)        0         \n",
      "_________________________________________________________________\n",
      "dropout_1 (Dropout)          (None, 14, 14, 32)        0         \n",
      "_________________________________________________________________\n",
      "conv2d_2 (Conv2D)            (None, 14, 14, 64)        18496     \n",
      "_________________________________________________________________\n",
      "max_pooling2d_2 (MaxPooling2 (None, 7, 7, 64)          0         \n",
      "_________________________________________________________________\n",
      "dropout_2 (Dropout)          (None, 7, 7, 64)          0         \n",
      "_________________________________________________________________\n",
      "flatten_1 (Flatten)          (None, 3136)              0         \n",
      "_________________________________________________________________\n",
      "dense_1 (Dense)              (None, 128)               401536    \n",
      "_________________________________________________________________\n",
      "dropout_3 (Dropout)          (None, 128)               0         \n",
      "_________________________________________________________________\n",
      "dense_2 (Dense)              (None, 10)                1290      \n",
      "_________________________________________________________________\n",
      "dense_3 (Dense)              (None, 10)                110       \n",
      "=================================================================\n",
      "Total params: 421,752\n",
      "Trainable params: 421,752\n",
      "Non-trainable params: 0\n",
      "_________________________________________________________________\n"
     ]
    }
   ],
   "source": [
    "model = model_builder()"
   ]
  },
  {
   "cell_type": "markdown",
   "metadata": {},
   "source": [
    "# Compiling The Model"
   ]
  },
  {
   "cell_type": "code",
   "execution_count": 4,
   "metadata": {},
   "outputs": [],
   "source": [
    "model.compile(optimizer='adam', \n",
    "              loss='categorical_crossentropy', \n",
    "              metrics=['accuracy'])"
   ]
  },
  {
   "cell_type": "markdown",
   "metadata": {},
   "source": [
    "# Defining Callbacks"
   ]
  },
  {
   "cell_type": "code",
   "execution_count": 5,
   "metadata": {},
   "outputs": [],
   "source": [
    "from keras.callbacks import ReduceLROnPlateau\n",
    "\n",
    "LR_Reduction = ReduceLROnPlateau(monitor='val_accuracy',\n",
    "                                 patience=1,\n",
    "                                 verbose=1,\n",
    "                                 factor=0.7,\n",
    "                                 min_lr=0.0001)\n",
    "\n",
    "callbacks = [LR_Reduction]"
   ]
  },
  {
   "cell_type": "markdown",
   "metadata": {},
   "source": [
    "# Reading Dataset"
   ]
  },
  {
   "cell_type": "code",
   "execution_count": 6,
   "metadata": {},
   "outputs": [],
   "source": [
    "from keras.preprocessing.image import ImageDataGenerator\n",
    "\n",
    "training_datagen = ImageDataGenerator(rescale=1./255)\n",
    "\n",
    "testing_datagen = ImageDataGenerator(rescale=1./255)"
   ]
  },
  {
   "cell_type": "code",
   "execution_count": 7,
   "metadata": {},
   "outputs": [
    {
     "name": "stdout",
     "output_type": "stream",
     "text": [
      "Found 60000 images belonging to 10 classes.\n"
     ]
    }
   ],
   "source": [
    "training_set = training_datagen.flow_from_directory('Dataset/training/',\n",
    "                                                    target_size=(28,28),\n",
    "                                                    color_mode='grayscale',\n",
    "                                                    batch_size=32,\n",
    "                                                    class_mode='categorical')"
   ]
  },
  {
   "cell_type": "code",
   "execution_count": 8,
   "metadata": {},
   "outputs": [
    {
     "name": "stdout",
     "output_type": "stream",
     "text": [
      "Found 10000 images belonging to 10 classes.\n"
     ]
    }
   ],
   "source": [
    "testing_set = testing_datagen.flow_from_directory('Dataset/testing/',\n",
    "                                                    target_size=(28,28),\n",
    "                                                    color_mode='grayscale',\n",
    "                                                    batch_size=32,\n",
    "                                                    class_mode='categorical')"
   ]
  },
  {
   "cell_type": "code",
   "execution_count": 3,
   "metadata": {},
   "outputs": [
    {
     "data": {
      "image/png": "[encoded data removed]",
      "text/plain": [
       "<Figure size 1440x720 with 4 Axes>"
      ]
     },
     "metadata": {
      "needs_background": "light"
     },
     "output_type": "display_data"
    }
   ],
   "source": [
    "import cv2\n",
    "from matplotlib import pyplot as plt\n",
    "\n",
    "image1 = cv2.imread('Dataset/training/0/1.png')\n",
    "image2 = cv2.imread('Dataset/training/1/3.png')\n",
    "image3 = cv2.imread('Dataset/training/3/7.png')\n",
    "image4 = cv2.imread('Dataset/training/6/13.png')\n",
    "\n",
    "fig = plt.figure(figsize=(20,10))\n",
    "\n",
    "ax1 = fig.add_subplot(1,5,1)\n",
    "ax2 = fig.add_subplot(1,5,2)\n",
    "ax3 = fig.add_subplot(1,5,3)\n",
    "ax4 = fig.add_subplot(1,5,4)\n",
    "\n",
    "ax1.imshow(image1)\n",
    "ax2.imshow(image2)\n",
    "ax3.imshow(image3)\n",
    "ax4.imshow(image4)\n",
    "\n",
    "plt.show()"
   ]
  },
  {
   "cell_type": "markdown",
   "metadata": {},
   "source": [
    "# Training The Model"
   ]
  },
  {
   "cell_type": "code",
   "execution_count": 9,
   "metadata": {},
   "outputs": [],
   "source": [
    "FAST_RUN = False\n",
    "epochs=3 if FAST_RUN else 10"
   ]
  },
  {
   "cell_type": "code",
   "execution_count": 10,
   "metadata": {},
   "outputs": [
    {
     "name": "stdout",
     "output_type": "stream",
     "text": [
      "Epoch 1/10\n",
      "1875/1875 [==============================] - 49s 26ms/step - loss: 0.2850 - accuracy: 0.9136 - val_loss: 0.0717 - val_accuracy: 0.9819\n",
      "Epoch 2/10\n",
      "1875/1875 [==============================] - 50s 27ms/step - loss: 0.0936 - accuracy: 0.9722 - val_loss: 0.0810 - val_accuracy: 0.9836\n",
      "Epoch 3/10\n",
      "1875/1875 [==============================] - 52s 28ms/step - loss: 0.0729 - accuracy: 0.9788 - val_loss: 0.0032 - val_accuracy: 0.9885\n",
      "Epoch 4/10\n",
      "1875/1875 [==============================] - 52s 27ms/step - loss: 0.0612 - accuracy: 0.9822 - val_loss: 0.0259 - val_accuracy: 0.9911\n",
      "Epoch 5/10\n",
      "1875/1875 [==============================] - 52s 28ms/step - loss: 0.0549 - accuracy: 0.9835 - val_loss: 0.0801 - val_accuracy: 0.9903\n",
      "\n",
      "Epoch 00005: ReduceLROnPlateau reducing learning rate to 0.0007000000332482159.\n",
      "Epoch 6/10\n",
      "1875/1875 [==============================] - 52s 28ms/step - loss: 0.0422 - accuracy: 0.9872 - val_loss: 0.0052 - val_accuracy: 0.9919\n",
      "Epoch 7/10\n",
      "1875/1875 [==============================] - 52s 28ms/step - loss: 0.0385 - accuracy: 0.9891 - val_loss: 0.0086 - val_accuracy: 0.9912\n",
      "\n",
      "Epoch 00007: ReduceLROnPlateau reducing learning rate to 0.0004900000232737511.\n",
      "Epoch 8/10\n",
      "1875/1875 [==============================] - 52s 28ms/step - loss: 0.0323 - accuracy: 0.9900 - val_loss: 0.0262 - val_accuracy: 0.9929\n",
      "Epoch 9/10\n",
      "1875/1875 [==============================] - 52s 28ms/step - loss: 0.0292 - accuracy: 0.9910 - val_loss: 3.0512e-04 - val_accuracy: 0.9932\n",
      "Epoch 10/10\n",
      "1875/1875 [==============================] - 52s 28ms/step - loss: 0.0294 - accuracy: 0.9908 - val_loss: 0.0056 - val_accuracy: 0.9937\n"
     ]
    }
   ],
   "source": [
    "history = model.fit_generator(training_set,\n",
    "                             steps_per_epoch=60000//32,\n",
    "                             epochs=epochs,\n",
    "                             validation_data=testing_set,\n",
    "                             validation_steps=10000//32,\n",
    "                             callbacks=callbacks)"
   ]
  },
  {
   "cell_type": "markdown",
   "metadata": {},
   "source": [
    "# Visualizing Learning of Model"
   ]
  },
  {
   "cell_type": "code",
   "execution_count": 11,
   "metadata": {
    "scrolled": false
   },
   "outputs": [
    {
     "data": {
      "image/png": "[encoded data removed]",
      "text/plain": [
       "<Figure size 720x720 with 2 Axes>"
      ]
     },
     "metadata": {
      "needs_background": "light"
     },
     "output_type": "display_data"
    }
   ],
   "source": [
    "import matplotlib.pyplot as plt\n",
    "\n",
    "accuracy = history.history['accuracy']\n",
    "val_accuracy = history.history['val_accuracy']\n",
    "loss = history.history['loss']\n",
    "val_loss = history.history['val_loss']\n",
    "\n",
    "fig = plt.figure(figsize=(10,10),edgecolor='Black') \n",
    "ax1 = fig.add_subplot(2,1,1)\n",
    "ax2 = fig.add_subplot(2,1,2)\n",
    "\n",
    "ax1.plot(accuracy, label='Training Accuracy', color='Blue')\n",
    "ax1.plot(val_accuracy, label='Validation Accuracy', color='Red')\n",
    "ax1.set_title(\"Training and Validation accuracy\", fontsize=20)\n",
    "ax1.set_ylabel(\"Accuracy\", fontsize=15)\n",
    "ax1.legend()\n",
    "\n",
    "ax2.plot(loss, label='Training Loss', color='Blue')\n",
    "ax2.plot(val_loss, label='Validation Loss', color='Red')\n",
    "ax2.set_title(\"Training and validation loss\", fontsize=20)\n",
    "ax2.set_ylabel(\"Loss\", fontsize=15)\n",
    "ax2.legend()\n",
    "\n",
    "plt.show()"
   ]
  },
  {
   "cell_type": "code",
   "execution_count": 12,
   "metadata": {},
   "outputs": [
    {
     "name": "stdout",
     "output_type": "stream",
     "text": [
      "Accuracy Score: 99.0\n"
     ]
    }
   ],
   "source": [
    "print(\"Accuracy Score:\" , round(accuracy[-1]*100))"
   ]
  },
  {
   "cell_type": "code",
   "execution_count": 13,
   "metadata": {},
   "outputs": [],
   "source": [
    "model.save('MODEL')"
   ]
  }
 ],
 "metadata": {
  "kernelspec": {
   "display_name": "Python 3",
   "language": "python",
   "name": "python3"
  },
  "language_info": {
   "codemirror_mode": {
    "name": "ipython",
    "version": 3
   },
   "file_extension": ".py",
   "mimetype": "text/x-python",
   "name": "python",
   "nbconvert_exporter": "python",
   "pygments_lexer": "ipython3",
   "version": "3.7.6"
  }
 },
 "nbformat": 4,
 "nbformat_minor": 4
}
